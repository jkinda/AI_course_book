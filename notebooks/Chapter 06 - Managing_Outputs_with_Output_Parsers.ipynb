{
  "cells": [
    {
      "cell_type": "markdown",
      "metadata": {
        "colab_type": "text",
        "id": "view-in-github"
      },
      "source": [
        "<a href=\"https://colab.research.google.com/github/towardsai/ragbook-notebooks/blob/main/notebooks/Chapter%2006%20-%20Managing_Outputs_with_Output_Parsers.ipynb\" target=\"_parent\"><img src=\"https://colab.research.google.com/assets/colab-badge.svg\" alt=\"Open In Colab\"/></a>"
      ]
    },
    {
      "cell_type": "code",
      "execution_count": 1,
      "metadata": {
        "colab": {
          "base_uri": "https://localhost:8080/"
        },
        "id": "aU3Ywhwcyu1m",
        "outputId": "021b88ac-82b5-428f-c2e6-8a8677c711f5"
      },
      "outputs": [],
      "source": [
        "!pip install -q langchain==0.0.208 openai==0.27.8 python-dotenv"
      ]
    },
    {
      "cell_type": "code",
      "execution_count": 2,
      "metadata": {
        "colab": {
          "base_uri": "https://localhost:8080/"
        },
        "id": "XOgAy2kF00W8",
        "outputId": "4ea05d6d-74e5-4510-b5bb-2900e3c6bcfc"
      },
      "outputs": [
        {
          "data": {
            "text/plain": [
              "True"
            ]
          },
          "execution_count": 2,
          "metadata": {},
          "output_type": "execute_result"
        }
      ],
      "source": [
        "from dotenv import load_dotenv\n",
        "\n",
        "load_dotenv()"
      ]
    },
    {
      "cell_type": "markdown",
      "metadata": {
        "id": "zo1f1Z6fUxJv"
      },
      "source": [
        "# PydanticOutputParser"
      ]
    },
    {
      "cell_type": "markdown",
      "metadata": {
        "id": "lzr9k3yFZDkO"
      },
      "source": [
        "## Imports"
      ]
    },
    {
      "cell_type": "code",
      "execution_count": 4,
      "metadata": {
        "id": "0qomvYqwy18W"
      },
      "outputs": [],
      "source": [
        "from langchain.chat_models import ChatOpenAI\n",
        "\n",
        "from langchain import LLMChain\n",
        "from langchain.prompts import PromptTemplate\n",
        "from langchain.output_parsers import PydanticOutputParser"
      ]
    },
    {
      "cell_type": "code",
      "execution_count": 5,
      "metadata": {
        "id": "TxsF7TGqy24l"
      },
      "outputs": [],
      "source": [
        "from pydantic import BaseModel, Field, validator\n",
        "from typing import List"
      ]
    },
    {
      "cell_type": "code",
      "execution_count": 6,
      "metadata": {
        "id": "RYf_NqLLy4lb"
      },
      "outputs": [],
      "source": [
        "model_name = 'gpt-4o-mini'\n",
        "temperature = 0.0\n",
        "model = ChatOpenAI(model_name=model_name, temperature=temperature)"
      ]
    },
    {
      "cell_type": "markdown",
      "metadata": {
        "id": "URPqeTYegShI"
      },
      "source": [
        "## Documentation Example"
      ]
    },
    {
      "cell_type": "code",
      "execution_count": 7,
      "metadata": {
        "id": "uZ0RaEhSzwiM"
      },
      "outputs": [],
      "source": [
        "# Define your desired data structure.\n",
        "class Joke(BaseModel):\n",
        "    setup: str = Field(description=\"question to set up a joke\")\n",
        "    punchline: str = Field(description=\"answer to resolve the joke\")\n",
        "\n",
        "    # You can add custom validation logic easily with Pydantic.\n",
        "    @validator('setup')\n",
        "    def question_ends_with_question_mark(cls, field):\n",
        "        if field[-1] != '?':\n",
        "            raise ValueError(\"Badly formed question!\")\n",
        "        return field"
      ]
    },
    {
      "cell_type": "code",
      "execution_count": 8,
      "metadata": {
        "id": "3RmLHS4Z3B6b"
      },
      "outputs": [],
      "source": [
        "# And a query intented to prompt a language model to populate the data structure.\n",
        "joke_query = \"Tell me a joke.\""
      ]
    },
    {
      "cell_type": "code",
      "execution_count": 9,
      "metadata": {
        "id": "8MVgV1Hs3Fnk"
      },
      "outputs": [],
      "source": [
        "# Set up a parser + inject instructions into the prompt template.\n",
        "parser = PydanticOutputParser(pydantic_object=Joke)"
      ]
    },
    {
      "cell_type": "code",
      "execution_count": 10,
      "metadata": {
        "id": "oSqgJ3JT3Hh-"
      },
      "outputs": [],
      "source": [
        "prompt_template = PromptTemplate(\n",
        "    template=\"Answer the user query.\\n{format_instructions}\\n{query}\\n\",\n",
        "    input_variables=[\"query\"],\n",
        "    partial_variables={\"format_instructions\": parser.get_format_instructions()}\n",
        ")"
      ]
    },
    {
      "cell_type": "code",
      "execution_count": 11,
      "metadata": {},
      "outputs": [
        {
          "data": {
            "text/plain": [
              "PromptTemplate(input_variables=['query'], output_parser=None, partial_variables={'format_instructions': 'The output should be formatted as a JSON instance that conforms to the JSON schema below.\\n\\nAs an example, for the schema {\"properties\": {\"foo\": {\"title\": \"Foo\", \"description\": \"a list of strings\", \"type\": \"array\", \"items\": {\"type\": \"string\"}}}, \"required\": [\"foo\"]}}\\nthe object {\"foo\": [\"bar\", \"baz\"]} is a well-formatted instance of the schema. The object {\"properties\": {\"foo\": [\"bar\", \"baz\"]}} is not well-formatted.\\n\\nHere is the output schema:\\n```\\n{\"properties\": {\"setup\": {\"title\": \"Setup\", \"description\": \"question to set up a joke\", \"type\": \"string\"}, \"punchline\": {\"title\": \"Punchline\", \"description\": \"answer to resolve the joke\", \"type\": \"string\"}}, \"required\": [\"setup\", \"punchline\"]}\\n```'}, template='Answer the user query.\\n{format_instructions}\\n{query}\\n', template_format='f-string', validate_template=True)"
            ]
          },
          "execution_count": 11,
          "metadata": {},
          "output_type": "execute_result"
        }
      ],
      "source": [
        "prompt_template"
      ]
    },
    {
      "cell_type": "code",
      "execution_count": 12,
      "metadata": {
        "id": "L9adEXqOYQ3n"
      },
      "outputs": [],
      "source": [
        "chain = LLMChain(llm=model, prompt=prompt_template)"
      ]
    },
    {
      "cell_type": "code",
      "execution_count": 13,
      "metadata": {
        "id": "HArhWPfs3J6O"
      },
      "outputs": [],
      "source": [
        "# Run the LLMChain to get the AI-generated answer\n",
        "output = chain.run(joke_query)"
      ]
    },
    {
      "cell_type": "code",
      "execution_count": 14,
      "metadata": {
        "colab": {
          "base_uri": "https://localhost:8080/"
        },
        "id": "DsmNHKUa4Pv8",
        "outputId": "ca43b389-040c-4014-dba7-420c513cd69b"
      },
      "outputs": [
        {
          "data": {
            "text/plain": [
              "Joke(setup=\"Why don't scientists trust atoms?\", punchline='Because they make up everything!')"
            ]
          },
          "execution_count": 14,
          "metadata": {},
          "output_type": "execute_result"
        }
      ],
      "source": [
        "parser.parse(output)"
      ]
    },
    {
      "cell_type": "code",
      "execution_count": 15,
      "metadata": {
        "id": "6wiexulx4bcO"
      },
      "outputs": [],
      "source": [
        "# Here's another example, but with a compound typed field.\n",
        "class Actor(BaseModel):\n",
        "    name: str = Field(description=\"name of an actor\")\n",
        "    film_names: List[str] = Field(description=\"list of names of films they starred in\")"
      ]
    },
    {
      "cell_type": "code",
      "execution_count": 16,
      "metadata": {
        "id": "UnYD331V4b6L"
      },
      "outputs": [],
      "source": [
        "actor_query = \"Generate the filmography for a random actor.\""
      ]
    },
    {
      "cell_type": "code",
      "execution_count": 17,
      "metadata": {
        "id": "X5vyMc_Z4dO0"
      },
      "outputs": [],
      "source": [
        "parser = PydanticOutputParser(pydantic_object=Actor)"
      ]
    },
    {
      "cell_type": "code",
      "execution_count": 18,
      "metadata": {
        "id": "Od8zVSLb4eif"
      },
      "outputs": [],
      "source": [
        "prompt_template = PromptTemplate(\n",
        "    template=\"Answer the user query.\\n{format_instructions}\\n{query}\\n\",\n",
        "    input_variables=[\"query\"],\n",
        "    partial_variables={\"format_instructions\": parser.get_format_instructions()}\n",
        ")"
      ]
    },
    {
      "cell_type": "code",
      "execution_count": 19,
      "metadata": {},
      "outputs": [
        {
          "data": {
            "text/plain": [
              "PromptTemplate(input_variables=['query'], output_parser=None, partial_variables={'format_instructions': 'The output should be formatted as a JSON instance that conforms to the JSON schema below.\\n\\nAs an example, for the schema {\"properties\": {\"foo\": {\"title\": \"Foo\", \"description\": \"a list of strings\", \"type\": \"array\", \"items\": {\"type\": \"string\"}}}, \"required\": [\"foo\"]}}\\nthe object {\"foo\": [\"bar\", \"baz\"]} is a well-formatted instance of the schema. The object {\"properties\": {\"foo\": [\"bar\", \"baz\"]}} is not well-formatted.\\n\\nHere is the output schema:\\n```\\n{\"properties\": {\"name\": {\"title\": \"Name\", \"description\": \"name of an actor\", \"type\": \"string\"}, \"film_names\": {\"title\": \"Film Names\", \"description\": \"list of names of films they starred in\", \"type\": \"array\", \"items\": {\"type\": \"string\"}}}, \"required\": [\"name\", \"film_names\"]}\\n```'}, template='Answer the user query.\\n{format_instructions}\\n{query}\\n', template_format='f-string', validate_template=True)"
            ]
          },
          "execution_count": 19,
          "metadata": {},
          "output_type": "execute_result"
        }
      ],
      "source": [
        "prompt_template"
      ]
    },
    {
      "cell_type": "code",
      "execution_count": 20,
      "metadata": {
        "id": "h62pBcQq4gVG"
      },
      "outputs": [],
      "source": [
        "chain = LLMChain(llm=model, prompt=prompt_template)"
      ]
    },
    {
      "cell_type": "code",
      "execution_count": 22,
      "metadata": {
        "id": "zQWn0Khl4hev"
      },
      "outputs": [],
      "source": [
        "# Run the LLMChain to get the AI-generated answer\n",
        "output = chain.run(actor_query)"
      ]
    },
    {
      "cell_type": "code",
      "execution_count": 23,
      "metadata": {
        "colab": {
          "base_uri": "https://localhost:8080/"
        },
        "id": "qk-BLqr24iiO",
        "outputId": "2978d8ca-2f46-46e2-f5cc-bddc1788787c"
      },
      "outputs": [
        {
          "data": {
            "text/plain": [
              "Actor(name='Leonardo DiCaprio', film_names=['Titanic', 'Inception', 'The Revenant', 'The Wolf of Wall Street', 'Shutter Island', 'Catch Me If You Can', 'Once Upon a Time in Hollywood', 'The Aviator', 'Gangs of New York', 'Django Unchained'])"
            ]
          },
          "execution_count": 23,
          "metadata": {},
          "output_type": "execute_result"
        }
      ],
      "source": [
        "parser.parse(output)"
      ]
    },
    {
      "cell_type": "markdown",
      "metadata": {
        "id": "3sy-cicc6PpP"
      },
      "source": [
        "## My Example"
      ]
    },
    {
      "cell_type": "code",
      "execution_count": 30,
      "metadata": {
        "id": "y_nVxsRA6Qit"
      },
      "outputs": [],
      "source": [
        "# Define your desired data structure.\n",
        "class Suggestions(BaseModel):\n",
        "    words: List[str] = Field(description=\"list of substitue words based on context\")\n",
        "\n",
        "    # Throw error in case of recieving a numbered-list from API\n",
        "    @validator('words')\n",
        "    def not_start_with_number(cls, field):\n",
        "        if field[0].isnumeric():\n",
        "            raise ValueError(\"The word can not start with numbers!\")\n",
        "        return field"
      ]
    },
    {
      "cell_type": "code",
      "execution_count": 31,
      "metadata": {
        "id": "nR6c6dOW7IUq"
      },
      "outputs": [],
      "source": [
        "parser = PydanticOutputParser(pydantic_object=Suggestions)"
      ]
    },
    {
      "cell_type": "code",
      "execution_count": 32,
      "metadata": {
        "id": "LnPGiZtf8-C6"
      },
      "outputs": [],
      "source": [
        "template = \"\"\"\n",
        "Offer a list of suggestions to substitue the specified target_word based the presented context.\n",
        "{format_instructions}\n",
        "target_word={target_word}\n",
        "context={context}\n",
        "\"\"\""
      ]
    },
    {
      "cell_type": "code",
      "execution_count": 33,
      "metadata": {
        "id": "B0Jjz_Uncl22"
      },
      "outputs": [],
      "source": [
        "target_word=\"behaviour\"\n",
        "context=\"The behaviour of the students in the classroom was disruptive and made it difficult for the teacher to conduct the lesson.\""
      ]
    },
    {
      "cell_type": "code",
      "execution_count": 34,
      "metadata": {
        "id": "7RzJL9eO8iWt"
      },
      "outputs": [],
      "source": [
        "prompt_template = PromptTemplate(\n",
        "    template=template,\n",
        "    input_variables=[\"target_word\", \"context\"],\n",
        "    partial_variables={\"format_instructions\": parser.get_format_instructions()}\n",
        ")"
      ]
    },
    {
      "cell_type": "code",
      "execution_count": 35,
      "metadata": {
        "id": "gYkfASGKEuiM"
      },
      "outputs": [],
      "source": [
        "chain = LLMChain(llm=model, prompt=prompt_template)"
      ]
    },
    {
      "cell_type": "code",
      "execution_count": 36,
      "metadata": {
        "id": "gev4Ed-jcuNk"
      },
      "outputs": [],
      "source": [
        "# Run the LLMChain to get the AI-generated answer\n",
        "output = chain.run({\"target_word\": target_word, \"context\":context})"
      ]
    },
    {
      "cell_type": "code",
      "execution_count": 37,
      "metadata": {
        "colab": {
          "base_uri": "https://localhost:8080/"
        },
        "id": "1bsuujQeE5ZG",
        "outputId": "fd073a6a-a3f9-4b95-c186-cf1e08dc9ccf"
      },
      "outputs": [
        {
          "data": {
            "text/plain": [
              "Suggestions(words=['conduct', 'action', 'demeanor', 'attitude', 'performance', 'manner', 'response', 'conduct', 'deportment'])"
            ]
          },
          "execution_count": 37,
          "metadata": {},
          "output_type": "execute_result"
        }
      ],
      "source": [
        "parser.parse(output)"
      ]
    },
    {
      "cell_type": "markdown",
      "metadata": {
        "id": "G1Lc1aD0giWW"
      },
      "source": [
        "## My Example, Multiple Outputs"
      ]
    },
    {
      "cell_type": "code",
      "execution_count": 38,
      "metadata": {
        "id": "pRJre1bXgiEr"
      },
      "outputs": [],
      "source": [
        "# Define your desired data structure.\n",
        "class Suggestions(BaseModel):\n",
        "    words: List[str] = Field(description=\"list of substitue words based on context\")\n",
        "    reasons: List[str] = Field(description=\"the reasoning of why this word fits the context\")\n",
        "\n",
        "    # Throw error in case of recieving a numbered-list from API\n",
        "    @validator('words')\n",
        "    def not_start_with_number(cls, field):\n",
        "      for item in field:\n",
        "        if item[0].isnumeric():\n",
        "          raise ValueError(\"The word can not start with numbers!\")\n",
        "      return field\n",
        "\n",
        "    @validator('reasons')\n",
        "    def end_with_dot(cls, field):\n",
        "      for idx, item in enumerate( field ):\n",
        "        if item[-1] != \".\":\n",
        "          field[idx] += \".\"\n",
        "      return field"
      ]
    },
    {
      "cell_type": "code",
      "execution_count": 39,
      "metadata": {
        "id": "T_Odwb2Vgq6i"
      },
      "outputs": [],
      "source": [
        "parser = PydanticOutputParser(pydantic_object=Suggestions)"
      ]
    },
    {
      "cell_type": "code",
      "execution_count": 40,
      "metadata": {
        "id": "FBYOEFr3gtJq"
      },
      "outputs": [],
      "source": [
        "template = \"\"\"\n",
        "Offer a list of suggestions to substitue the specified target_word based the presented context and the reasoning for each word.\n",
        "{format_instructions}\n",
        "target_word={target_word}\n",
        "context={context}\n",
        "\"\"\"\n",
        "\n"
      ]
    },
    {
      "cell_type": "code",
      "execution_count": 41,
      "metadata": {
        "id": "usHAhjsJg2YG"
      },
      "outputs": [],
      "source": [
        "prompt_template = PromptTemplate(\n",
        "    template=template,\n",
        "    input_variables=[\"target_word\", \"context\"],\n",
        "    partial_variables={\"format_instructions\": parser.get_format_instructions()}\n",
        ")"
      ]
    },
    {
      "cell_type": "code",
      "execution_count": 42,
      "metadata": {
        "id": "OmOpWYdZdMwy"
      },
      "outputs": [],
      "source": [
        "chain = LLMChain(llm=model, prompt=prompt_template)"
      ]
    },
    {
      "cell_type": "code",
      "execution_count": 43,
      "metadata": {
        "id": "Vfz6lxXOg6vq"
      },
      "outputs": [],
      "source": [
        "# Run the LLMChain to get the AI-generated answer\n",
        "output = chain.run({\"target_word\": target_word, \"context\":context})"
      ]
    },
    {
      "cell_type": "code",
      "execution_count": 45,
      "metadata": {
        "colab": {
          "base_uri": "https://localhost:8080/"
        },
        "id": "1R-flPY0g8E-",
        "outputId": "c731184a-e7e2-4915-9e16-1c46769fe5fa"
      },
      "outputs": [],
      "source": [
        "parsed_output = parser.parse(output)"
      ]
    },
    {
      "cell_type": "code",
      "execution_count": 48,
      "metadata": {},
      "outputs": [
        {
          "name": "stdout",
          "output_type": "stream",
          "text": [
            "0\n",
            "('words', ['conduct', 'actions', 'demeanor', 'attitude', 'mannerisms'])\n",
            "1\n",
            "('reasons', [\"The word 'conduct' refers to the way in which a person behaves, especially in a specific context, making it suitable for describing students' actions in the classroom.\", \"The term 'actions' captures the specific things that students do, which aligns with the context of their disruptive behaviour.\", \"The word 'demeanor' relates to the outward behavior or bearing of the students, which is relevant in assessing how they are perceived in the classroom.\", \"The term 'attitude' reflects the students' mental state or disposition, which can influence their behaviour in a learning environment.\", \"The word 'mannerisms' refers to the habitual gestures or behaviors of the students, which can contribute to the overall disruptive nature mentioned in the context.\"])\n"
          ]
        }
      ],
      "source": [
        "for idx, suggestion in enumerate(parsed_output):\n",
        "    print(idx)\n",
        "    print(suggestion)"
      ]
    },
    {
      "cell_type": "markdown",
      "metadata": {
        "id": "cB7bi-ehU4-V"
      },
      "source": [
        "# CommaSeparatedListOutputParser"
      ]
    },
    {
      "cell_type": "markdown",
      "metadata": {
        "id": "9kX-OJMQZHyB"
      },
      "source": [
        "## Imports"
      ]
    },
    {
      "cell_type": "code",
      "execution_count": null,
      "metadata": {
        "id": "L9SXjmZkU9Rz"
      },
      "outputs": [],
      "source": [
        "from langchain.prompts import PromptTemplate\n",
        "from langchain.output_parsers import CommaSeparatedListOutputParser"
      ]
    },
    {
      "cell_type": "markdown",
      "metadata": {
        "id": "ngM4gJ2iZJ1P"
      },
      "source": [
        "## My example"
      ]
    },
    {
      "cell_type": "code",
      "execution_count": null,
      "metadata": {
        "id": "B_5y6jTTX0q2"
      },
      "outputs": [],
      "source": [
        "parser = CommaSeparatedListOutputParser()"
      ]
    },
    {
      "cell_type": "code",
      "execution_count": null,
      "metadata": {
        "id": "Z_5lp0_cYGKG"
      },
      "outputs": [],
      "source": [
        "template = \"\"\"\n",
        "Offer a list of suggestions to substitue the word '{target_word}' based the presented the following text: {context}.\n",
        "{format_instructions}\n",
        "\"\"\""
      ]
    },
    {
      "cell_type": "code",
      "execution_count": null,
      "metadata": {
        "id": "MX9mnMoCX4IQ"
      },
      "outputs": [],
      "source": [
        "prompt_template = PromptTemplate(\n",
        "    template=template,\n",
        "    input_variables=[\"target_word\", \"context\"],\n",
        "    partial_variables={\"format_instructions\": parser.get_format_instructions()}\n",
        ")"
      ]
    },
    {
      "cell_type": "code",
      "execution_count": null,
      "metadata": {
        "id": "4GaeloUIdyvc"
      },
      "outputs": [],
      "source": [
        "chain = LLMChain(llm=model, prompt=prompt_template)"
      ]
    },
    {
      "cell_type": "code",
      "execution_count": null,
      "metadata": {
        "id": "LRyegkT1X7dn"
      },
      "outputs": [],
      "source": [
        "# Run the LLMChain to get the AI-generated answer\n",
        "output = chain.run({\"target_word\": target_word, \"context\":context})"
      ]
    },
    {
      "cell_type": "code",
      "execution_count": null,
      "metadata": {
        "colab": {
          "base_uri": "https://localhost:8080/"
        },
        "id": "nMU4iXnJfPBh",
        "outputId": "553cd931-932f-4481-9f17-c5d53e6f05b8"
      },
      "outputs": [
        {
          "data": {
            "text/plain": [
              "['conduct',\n",
              " 'actions',\n",
              " 'demeanor',\n",
              " 'conduct',\n",
              " 'performance',\n",
              " 'attitude',\n",
              " 'manners',\n",
              " 'actions',\n",
              " 'deportment',\n",
              " 'mannerisms']"
            ]
          },
          "execution_count": 96,
          "metadata": {},
          "output_type": "execute_result"
        }
      ],
      "source": [
        "parser.parse(output)"
      ]
    },
    {
      "cell_type": "markdown",
      "metadata": {
        "id": "SvDFFFJg7owk"
      },
      "source": [
        "# OutputFixingParser"
      ]
    },
    {
      "cell_type": "code",
      "execution_count": null,
      "metadata": {
        "id": "cUOr9lNE7rNe"
      },
      "outputs": [],
      "source": [
        "from langchain.output_parsers import PydanticOutputParser\n",
        "from langchain.output_parsers import OutputFixingParser"
      ]
    },
    {
      "cell_type": "code",
      "execution_count": null,
      "metadata": {
        "id": "dMozaMOz-EEX"
      },
      "outputs": [],
      "source": [
        "from pydantic import BaseModel, Field\n",
        "from typing import List"
      ]
    },
    {
      "cell_type": "code",
      "execution_count": null,
      "metadata": {
        "id": "BoaaITzR-LSB"
      },
      "outputs": [],
      "source": [
        "# Define your desired data structure.\n",
        "class Suggestions(BaseModel):\n",
        "    words: List[str] = Field(description=\"list of substitue words based on context\")\n",
        "    reasons: List[str] = Field(description=\"the reasoning of why this word fits the context\")\n",
        "\n",
        "parser = PydanticOutputParser(pydantic_object=Suggestions)"
      ]
    },
    {
      "cell_type": "markdown",
      "metadata": {
        "id": "gaf084y9__G8"
      },
      "source": [
        "## Example can fix"
      ]
    },
    {
      "cell_type": "code",
      "execution_count": null,
      "metadata": {
        "id": "BH3_H3BvBAuc"
      },
      "outputs": [],
      "source": [
        "missformatted_output = '{\"words\": [\"conduct\", \"manner\"], \"reasoning\": [\"refers to the way someone acts in a particular situation.\", \"refers to the way someone behaves in a particular situation.\"]}'"
      ]
    },
    {
      "cell_type": "code",
      "execution_count": null,
      "metadata": {
        "colab": {
          "base_uri": "https://localhost:8080/",
          "height": 542
        },
        "id": "auvd-X1gBAn5",
        "outputId": "ef0cdfd7-b6f9-46c1-e86f-eea8d93fd3f5"
      },
      "outputs": [
        {
          "ename": "OutputParserException",
          "evalue": "Failed to parse Suggestions from completion {\"words\": [\"conduct\", \"manner\"], \"reasoning\": [\"refers to the way someone acts in a particular situation.\", \"refers to the way someone behaves in a particular situation.\"]}. Got: 1 validation error for Suggestions\nreasons\n  field required (type=value_error.missing)",
          "output_type": "error",
          "traceback": [
            "\u001b[0;31m---------------------------------------------------------------------------\u001b[0m",
            "\u001b[0;31mValidationError\u001b[0m                           Traceback (most recent call last)",
            "\u001b[0;32m/usr/local/lib/python3.10/dist-packages/langchain/output_parsers/pydantic.py\u001b[0m in \u001b[0;36mparse\u001b[0;34m(self, text)\u001b[0m\n\u001b[1;32m     25\u001b[0m             \u001b[0mjson_object\u001b[0m \u001b[0;34m=\u001b[0m \u001b[0mjson\u001b[0m\u001b[0;34m.\u001b[0m\u001b[0mloads\u001b[0m\u001b[0;34m(\u001b[0m\u001b[0mjson_str\u001b[0m\u001b[0;34m,\u001b[0m \u001b[0mstrict\u001b[0m\u001b[0;34m=\u001b[0m\u001b[0;32mFalse\u001b[0m\u001b[0;34m)\u001b[0m\u001b[0;34m\u001b[0m\u001b[0;34m\u001b[0m\u001b[0m\n\u001b[0;32m---> 26\u001b[0;31m             \u001b[0;32mreturn\u001b[0m \u001b[0mself\u001b[0m\u001b[0;34m.\u001b[0m\u001b[0mpydantic_object\u001b[0m\u001b[0;34m.\u001b[0m\u001b[0mparse_obj\u001b[0m\u001b[0;34m(\u001b[0m\u001b[0mjson_object\u001b[0m\u001b[0;34m)\u001b[0m\u001b[0;34m\u001b[0m\u001b[0;34m\u001b[0m\u001b[0m\n\u001b[0m\u001b[1;32m     27\u001b[0m \u001b[0;34m\u001b[0m\u001b[0m\n",
            "\u001b[0;32m/usr/local/lib/python3.10/dist-packages/pydantic/main.cpython-310-x86_64-linux-gnu.so\u001b[0m in \u001b[0;36mpydantic.main.BaseModel.parse_obj\u001b[0;34m()\u001b[0m\n",
            "\u001b[0;32m/usr/local/lib/python3.10/dist-packages/pydantic/main.cpython-310-x86_64-linux-gnu.so\u001b[0m in \u001b[0;36mpydantic.main.BaseModel.__init__\u001b[0;34m()\u001b[0m\n",
            "\u001b[0;31mValidationError\u001b[0m: 1 validation error for Suggestions\nreasons\n  field required (type=value_error.missing)",
            "\nDuring handling of the above exception, another exception occurred:\n",
            "\u001b[0;31mOutputParserException\u001b[0m                     Traceback (most recent call last)",
            "\u001b[0;32m<ipython-input-101-5597a0ca70b6>\u001b[0m in \u001b[0;36m<cell line: 1>\u001b[0;34m()\u001b[0m\n\u001b[0;32m----> 1\u001b[0;31m \u001b[0mparser\u001b[0m\u001b[0;34m.\u001b[0m\u001b[0mparse\u001b[0m\u001b[0;34m(\u001b[0m\u001b[0mmissformatted_output\u001b[0m\u001b[0;34m)\u001b[0m\u001b[0;34m\u001b[0m\u001b[0;34m\u001b[0m\u001b[0m\n\u001b[0m",
            "\u001b[0;32m/usr/local/lib/python3.10/dist-packages/langchain/output_parsers/pydantic.py\u001b[0m in \u001b[0;36mparse\u001b[0;34m(self, text)\u001b[0m\n\u001b[1;32m     29\u001b[0m             \u001b[0mname\u001b[0m \u001b[0;34m=\u001b[0m \u001b[0mself\u001b[0m\u001b[0;34m.\u001b[0m\u001b[0mpydantic_object\u001b[0m\u001b[0;34m.\u001b[0m\u001b[0m__name__\u001b[0m\u001b[0;34m\u001b[0m\u001b[0;34m\u001b[0m\u001b[0m\n\u001b[1;32m     30\u001b[0m             \u001b[0mmsg\u001b[0m \u001b[0;34m=\u001b[0m \u001b[0;34mf\"Failed to parse {name} from completion {text}. Got: {e}\"\u001b[0m\u001b[0;34m\u001b[0m\u001b[0;34m\u001b[0m\u001b[0m\n\u001b[0;32m---> 31\u001b[0;31m             \u001b[0;32mraise\u001b[0m \u001b[0mOutputParserException\u001b[0m\u001b[0;34m(\u001b[0m\u001b[0mmsg\u001b[0m\u001b[0;34m)\u001b[0m\u001b[0;34m\u001b[0m\u001b[0;34m\u001b[0m\u001b[0m\n\u001b[0m\u001b[1;32m     32\u001b[0m \u001b[0;34m\u001b[0m\u001b[0m\n\u001b[1;32m     33\u001b[0m     \u001b[0;32mdef\u001b[0m \u001b[0mget_format_instructions\u001b[0m\u001b[0;34m(\u001b[0m\u001b[0mself\u001b[0m\u001b[0;34m)\u001b[0m \u001b[0;34m->\u001b[0m \u001b[0mstr\u001b[0m\u001b[0;34m:\u001b[0m\u001b[0;34m\u001b[0m\u001b[0;34m\u001b[0m\u001b[0m\n",
            "\u001b[0;31mOutputParserException\u001b[0m: Failed to parse Suggestions from completion {\"words\": [\"conduct\", \"manner\"], \"reasoning\": [\"refers to the way someone acts in a particular situation.\", \"refers to the way someone behaves in a particular situation.\"]}. Got: 1 validation error for Suggestions\nreasons\n  field required (type=value_error.missing)"
          ]
        }
      ],
      "source": [
        "parser.parse(missformatted_output)"
      ]
    },
    {
      "cell_type": "code",
      "execution_count": null,
      "metadata": {
        "id": "G0U6zhY_BAfT"
      },
      "outputs": [],
      "source": [
        "outputfixing_parser = OutputFixingParser.from_llm(parser=parser, llm=model)"
      ]
    },
    {
      "cell_type": "code",
      "execution_count": null,
      "metadata": {
        "colab": {
          "base_uri": "https://localhost:8080/"
        },
        "id": "x-S4HyELBuN6",
        "outputId": "2593e41c-a447-4cbc-ff7e-d0cbb2dfdbad"
      },
      "outputs": [
        {
          "data": {
            "text/plain": [
              "Suggestions(words=['conduct', 'manner'], reasons=['refers to the way someone acts in a particular situation.', 'refers to the way someone behaves in a particular situation.'])"
            ]
          },
          "execution_count": 103,
          "metadata": {},
          "output_type": "execute_result"
        }
      ],
      "source": [
        "outputfixing_parser.parse(missformatted_output)"
      ]
    },
    {
      "cell_type": "markdown",
      "metadata": {
        "id": "Ro4gfYu5BwYo"
      },
      "source": [
        "## Example can NOT fix"
      ]
    },
    {
      "cell_type": "code",
      "execution_count": null,
      "metadata": {
        "id": "kiVpYRA_-N_3"
      },
      "outputs": [],
      "source": [
        "missformatted_output = '{\"words\": [\"conduct\", \"manner\"]}'"
      ]
    },
    {
      "cell_type": "code",
      "execution_count": null,
      "metadata": {
        "colab": {
          "base_uri": "https://localhost:8080/",
          "height": 524
        },
        "id": "DG7bQwWc-qeO",
        "outputId": "fe077cd3-cce0-4240-802d-6cf62203b47f"
      },
      "outputs": [
        {
          "ename": "OutputParserException",
          "evalue": "Failed to parse Suggestions from completion {\"words\": [\"conduct\", \"manner\"]}. Got: 1 validation error for Suggestions\nreasons\n  field required (type=value_error.missing)",
          "output_type": "error",
          "traceback": [
            "\u001b[0;31m---------------------------------------------------------------------------\u001b[0m",
            "\u001b[0;31mValidationError\u001b[0m                           Traceback (most recent call last)",
            "\u001b[0;32m/usr/local/lib/python3.10/dist-packages/langchain/output_parsers/pydantic.py\u001b[0m in \u001b[0;36mparse\u001b[0;34m(self, text)\u001b[0m\n\u001b[1;32m     25\u001b[0m             \u001b[0mjson_object\u001b[0m \u001b[0;34m=\u001b[0m \u001b[0mjson\u001b[0m\u001b[0;34m.\u001b[0m\u001b[0mloads\u001b[0m\u001b[0;34m(\u001b[0m\u001b[0mjson_str\u001b[0m\u001b[0;34m,\u001b[0m \u001b[0mstrict\u001b[0m\u001b[0;34m=\u001b[0m\u001b[0;32mFalse\u001b[0m\u001b[0;34m)\u001b[0m\u001b[0;34m\u001b[0m\u001b[0;34m\u001b[0m\u001b[0m\n\u001b[0;32m---> 26\u001b[0;31m             \u001b[0;32mreturn\u001b[0m \u001b[0mself\u001b[0m\u001b[0;34m.\u001b[0m\u001b[0mpydantic_object\u001b[0m\u001b[0;34m.\u001b[0m\u001b[0mparse_obj\u001b[0m\u001b[0;34m(\u001b[0m\u001b[0mjson_object\u001b[0m\u001b[0;34m)\u001b[0m\u001b[0;34m\u001b[0m\u001b[0;34m\u001b[0m\u001b[0m\n\u001b[0m\u001b[1;32m     27\u001b[0m \u001b[0;34m\u001b[0m\u001b[0m\n",
            "\u001b[0;32m/usr/local/lib/python3.10/dist-packages/pydantic/main.cpython-310-x86_64-linux-gnu.so\u001b[0m in \u001b[0;36mpydantic.main.BaseModel.parse_obj\u001b[0;34m()\u001b[0m\n",
            "\u001b[0;32m/usr/local/lib/python3.10/dist-packages/pydantic/main.cpython-310-x86_64-linux-gnu.so\u001b[0m in \u001b[0;36mpydantic.main.BaseModel.__init__\u001b[0;34m()\u001b[0m\n",
            "\u001b[0;31mValidationError\u001b[0m: 1 validation error for Suggestions\nreasons\n  field required (type=value_error.missing)",
            "\nDuring handling of the above exception, another exception occurred:\n",
            "\u001b[0;31mOutputParserException\u001b[0m                     Traceback (most recent call last)",
            "\u001b[0;32m<ipython-input-105-5597a0ca70b6>\u001b[0m in \u001b[0;36m<cell line: 1>\u001b[0;34m()\u001b[0m\n\u001b[0;32m----> 1\u001b[0;31m \u001b[0mparser\u001b[0m\u001b[0;34m.\u001b[0m\u001b[0mparse\u001b[0m\u001b[0;34m(\u001b[0m\u001b[0mmissformatted_output\u001b[0m\u001b[0;34m)\u001b[0m\u001b[0;34m\u001b[0m\u001b[0;34m\u001b[0m\u001b[0m\n\u001b[0m",
            "\u001b[0;32m/usr/local/lib/python3.10/dist-packages/langchain/output_parsers/pydantic.py\u001b[0m in \u001b[0;36mparse\u001b[0;34m(self, text)\u001b[0m\n\u001b[1;32m     29\u001b[0m             \u001b[0mname\u001b[0m \u001b[0;34m=\u001b[0m \u001b[0mself\u001b[0m\u001b[0;34m.\u001b[0m\u001b[0mpydantic_object\u001b[0m\u001b[0;34m.\u001b[0m\u001b[0m__name__\u001b[0m\u001b[0;34m\u001b[0m\u001b[0;34m\u001b[0m\u001b[0m\n\u001b[1;32m     30\u001b[0m             \u001b[0mmsg\u001b[0m \u001b[0;34m=\u001b[0m \u001b[0;34mf\"Failed to parse {name} from completion {text}. Got: {e}\"\u001b[0m\u001b[0;34m\u001b[0m\u001b[0;34m\u001b[0m\u001b[0m\n\u001b[0;32m---> 31\u001b[0;31m             \u001b[0;32mraise\u001b[0m \u001b[0mOutputParserException\u001b[0m\u001b[0;34m(\u001b[0m\u001b[0mmsg\u001b[0m\u001b[0;34m)\u001b[0m\u001b[0;34m\u001b[0m\u001b[0;34m\u001b[0m\u001b[0m\n\u001b[0m\u001b[1;32m     32\u001b[0m \u001b[0;34m\u001b[0m\u001b[0m\n\u001b[1;32m     33\u001b[0m     \u001b[0;32mdef\u001b[0m \u001b[0mget_format_instructions\u001b[0m\u001b[0;34m(\u001b[0m\u001b[0mself\u001b[0m\u001b[0;34m)\u001b[0m \u001b[0;34m->\u001b[0m \u001b[0mstr\u001b[0m\u001b[0;34m:\u001b[0m\u001b[0;34m\u001b[0m\u001b[0;34m\u001b[0m\u001b[0m\n",
            "\u001b[0;31mOutputParserException\u001b[0m: Failed to parse Suggestions from completion {\"words\": [\"conduct\", \"manner\"]}. Got: 1 validation error for Suggestions\nreasons\n  field required (type=value_error.missing)"
          ]
        }
      ],
      "source": [
        "parser.parse(missformatted_output)"
      ]
    },
    {
      "cell_type": "code",
      "execution_count": null,
      "metadata": {
        "id": "o7U9CJr1_OD1"
      },
      "outputs": [],
      "source": [
        "outputfixing_parser = OutputFixingParser.from_llm(parser=parser, llm=model)"
      ]
    },
    {
      "cell_type": "code",
      "execution_count": null,
      "metadata": {
        "colab": {
          "base_uri": "https://localhost:8080/"
        },
        "id": "ZgycYLR7_gD9",
        "outputId": "f8906fed-1b47-451e-e533-63ed3789bbea"
      },
      "outputs": [
        {
          "data": {
            "text/plain": [
              "Suggestions(words=['conduct', 'manner'], reasons=['These words describe the behavior or way of carrying oneself in a given situation.'])"
            ]
          },
          "execution_count": 107,
          "metadata": {},
          "output_type": "execute_result"
        }
      ],
      "source": [
        "outputfixing_parser.parse(missformatted_output)"
      ]
    },
    {
      "cell_type": "markdown",
      "metadata": {
        "id": "vvknCvhpB9u4"
      },
      "source": [
        "# RetryOutputParser"
      ]
    },
    {
      "cell_type": "code",
      "execution_count": null,
      "metadata": {
        "id": "xTpm-zyCCppn"
      },
      "outputs": [],
      "source": [
        "from langchain.prompts import PromptTemplate\n",
        "from langchain.output_parsers import PydanticOutputParser\n",
        "from langchain.output_parsers import RetryWithErrorOutputParser"
      ]
    },
    {
      "cell_type": "code",
      "execution_count": null,
      "metadata": {
        "id": "95BsYWA-Cs19"
      },
      "outputs": [],
      "source": [
        "from pydantic import BaseModel, Field, validator\n",
        "from typing import List"
      ]
    },
    {
      "cell_type": "code",
      "execution_count": null,
      "metadata": {
        "id": "eNbiNpSMB_Gx"
      },
      "outputs": [],
      "source": [
        "# Define your desired data structure.\n",
        "class Suggestions(BaseModel):\n",
        "    words: List[str] = Field(description=\"list of substitue words based on context\")\n",
        "    reasons: List[str] = Field(description=\"the reasoning of why this word fits the context\")\n",
        "\n",
        "parser = PydanticOutputParser(pydantic_object=Suggestions)"
      ]
    },
    {
      "cell_type": "code",
      "execution_count": null,
      "metadata": {
        "id": "YqZdjApXCWeR"
      },
      "outputs": [],
      "source": [
        "template = \"\"\"\n",
        "Offer a list of suggestions to substitue the specified target_word based the presented context and the reasoning for each word.\n",
        "{format_instructions}\n",
        "target_word={target_word}\n",
        "context={context}\n",
        "\"\"\"\n",
        "\n",
        "prompt_template = PromptTemplate(\n",
        "    template=template,\n",
        "    input_variables=[\"target_word\", \"context\"],\n",
        "    partial_variables={\"format_instructions\": parser.get_format_instructions()}\n",
        ")\n",
        "\n",
        "model_input = prompt_template.format_prompt(target_word=\"behaviour\", context=\"The behaviour of the students in the classroom was disruptive and made it difficult for the teacher to conduct the lesson.\")"
      ]
    },
    {
      "cell_type": "code",
      "execution_count": null,
      "metadata": {
        "id": "BCBYLqS0CWW_"
      },
      "outputs": [],
      "source": [
        "missformatted_output = '{\"words\": [\"conduct\", \"manner\"]}'"
      ]
    },
    {
      "cell_type": "code",
      "execution_count": null,
      "metadata": {
        "colab": {
          "base_uri": "https://localhost:8080/",
          "height": 524
        },
        "id": "-B02plpFCWUI",
        "outputId": "f396e92c-4e44-41a6-a574-3d669e95ccaa"
      },
      "outputs": [
        {
          "ename": "OutputParserException",
          "evalue": "Failed to parse Suggestions from completion {\"words\": [\"conduct\", \"manner\"]}. Got: 1 validation error for Suggestions\nreasons\n  field required (type=value_error.missing)",
          "output_type": "error",
          "traceback": [
            "\u001b[0;31m---------------------------------------------------------------------------\u001b[0m",
            "\u001b[0;31mValidationError\u001b[0m                           Traceback (most recent call last)",
            "\u001b[0;32m/usr/local/lib/python3.10/dist-packages/langchain/output_parsers/pydantic.py\u001b[0m in \u001b[0;36mparse\u001b[0;34m(self, text)\u001b[0m\n\u001b[1;32m     25\u001b[0m             \u001b[0mjson_object\u001b[0m \u001b[0;34m=\u001b[0m \u001b[0mjson\u001b[0m\u001b[0;34m.\u001b[0m\u001b[0mloads\u001b[0m\u001b[0;34m(\u001b[0m\u001b[0mjson_str\u001b[0m\u001b[0;34m,\u001b[0m \u001b[0mstrict\u001b[0m\u001b[0;34m=\u001b[0m\u001b[0;32mFalse\u001b[0m\u001b[0;34m)\u001b[0m\u001b[0;34m\u001b[0m\u001b[0;34m\u001b[0m\u001b[0m\n\u001b[0;32m---> 26\u001b[0;31m             \u001b[0;32mreturn\u001b[0m \u001b[0mself\u001b[0m\u001b[0;34m.\u001b[0m\u001b[0mpydantic_object\u001b[0m\u001b[0;34m.\u001b[0m\u001b[0mparse_obj\u001b[0m\u001b[0;34m(\u001b[0m\u001b[0mjson_object\u001b[0m\u001b[0;34m)\u001b[0m\u001b[0;34m\u001b[0m\u001b[0;34m\u001b[0m\u001b[0m\n\u001b[0m\u001b[1;32m     27\u001b[0m \u001b[0;34m\u001b[0m\u001b[0m\n",
            "\u001b[0;32m/usr/local/lib/python3.10/dist-packages/pydantic/main.cpython-310-x86_64-linux-gnu.so\u001b[0m in \u001b[0;36mpydantic.main.BaseModel.parse_obj\u001b[0;34m()\u001b[0m\n",
            "\u001b[0;32m/usr/local/lib/python3.10/dist-packages/pydantic/main.cpython-310-x86_64-linux-gnu.so\u001b[0m in \u001b[0;36mpydantic.main.BaseModel.__init__\u001b[0;34m()\u001b[0m\n",
            "\u001b[0;31mValidationError\u001b[0m: 1 validation error for Suggestions\nreasons\n  field required (type=value_error.missing)",
            "\nDuring handling of the above exception, another exception occurred:\n",
            "\u001b[0;31mOutputParserException\u001b[0m                     Traceback (most recent call last)",
            "\u001b[0;32m<ipython-input-114-5597a0ca70b6>\u001b[0m in \u001b[0;36m<cell line: 1>\u001b[0;34m()\u001b[0m\n\u001b[0;32m----> 1\u001b[0;31m \u001b[0mparser\u001b[0m\u001b[0;34m.\u001b[0m\u001b[0mparse\u001b[0m\u001b[0;34m(\u001b[0m\u001b[0mmissformatted_output\u001b[0m\u001b[0;34m)\u001b[0m\u001b[0;34m\u001b[0m\u001b[0;34m\u001b[0m\u001b[0m\n\u001b[0m",
            "\u001b[0;32m/usr/local/lib/python3.10/dist-packages/langchain/output_parsers/pydantic.py\u001b[0m in \u001b[0;36mparse\u001b[0;34m(self, text)\u001b[0m\n\u001b[1;32m     29\u001b[0m             \u001b[0mname\u001b[0m \u001b[0;34m=\u001b[0m \u001b[0mself\u001b[0m\u001b[0;34m.\u001b[0m\u001b[0mpydantic_object\u001b[0m\u001b[0;34m.\u001b[0m\u001b[0m__name__\u001b[0m\u001b[0;34m\u001b[0m\u001b[0;34m\u001b[0m\u001b[0m\n\u001b[1;32m     30\u001b[0m             \u001b[0mmsg\u001b[0m \u001b[0;34m=\u001b[0m \u001b[0;34mf\"Failed to parse {name} from completion {text}. Got: {e}\"\u001b[0m\u001b[0;34m\u001b[0m\u001b[0;34m\u001b[0m\u001b[0m\n\u001b[0;32m---> 31\u001b[0;31m             \u001b[0;32mraise\u001b[0m \u001b[0mOutputParserException\u001b[0m\u001b[0;34m(\u001b[0m\u001b[0mmsg\u001b[0m\u001b[0;34m)\u001b[0m\u001b[0;34m\u001b[0m\u001b[0;34m\u001b[0m\u001b[0m\n\u001b[0m\u001b[1;32m     32\u001b[0m \u001b[0;34m\u001b[0m\u001b[0m\n\u001b[1;32m     33\u001b[0m     \u001b[0;32mdef\u001b[0m \u001b[0mget_format_instructions\u001b[0m\u001b[0;34m(\u001b[0m\u001b[0mself\u001b[0m\u001b[0;34m)\u001b[0m \u001b[0;34m->\u001b[0m \u001b[0mstr\u001b[0m\u001b[0;34m:\u001b[0m\u001b[0;34m\u001b[0m\u001b[0;34m\u001b[0m\u001b[0m\n",
            "\u001b[0;31mOutputParserException\u001b[0m: Failed to parse Suggestions from completion {\"words\": [\"conduct\", \"manner\"]}. Got: 1 validation error for Suggestions\nreasons\n  field required (type=value_error.missing)"
          ]
        }
      ],
      "source": [
        "parser.parse(missformatted_output)"
      ]
    },
    {
      "cell_type": "code",
      "execution_count": null,
      "metadata": {
        "id": "cevr_NbACWPL"
      },
      "outputs": [],
      "source": [
        "retry_parser = RetryWithErrorOutputParser.from_llm(parser=parser, llm=model)"
      ]
    },
    {
      "cell_type": "code",
      "execution_count": null,
      "metadata": {
        "colab": {
          "base_uri": "https://localhost:8080/"
        },
        "id": "uHZ1U-DFC3oa",
        "outputId": "54135122-659c-498e-ed3f-c059382408ea"
      },
      "outputs": [
        {
          "data": {
            "text/plain": [
              "Suggestions(words=['conduct', 'manner'], reasons=['These words both refer to the way in which something is carried out, which is relevant to the context of the disruptive behavior in the classroom.'])"
            ]
          },
          "execution_count": 116,
          "metadata": {},
          "output_type": "execute_result"
        }
      ],
      "source": [
        "retry_parser.parse_with_prompt(missformatted_output, model_input)"
      ]
    },
    {
      "cell_type": "code",
      "execution_count": null,
      "metadata": {
        "id": "37k8ZOqMDULn"
      },
      "outputs": [],
      "source": []
    }
  ],
  "metadata": {
    "colab": {
      "authorship_tag": "ABX9TyPEA/maTRenpC9sMvrvdtle",
      "include_colab_link": true,
      "provenance": []
    },
    "kernelspec": {
      "display_name": "Python 3",
      "name": "python3"
    },
    "language_info": {
      "name": "python"
    }
  },
  "nbformat": 4,
  "nbformat_minor": 0
}
