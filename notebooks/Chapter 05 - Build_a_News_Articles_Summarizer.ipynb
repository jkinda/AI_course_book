{
  "cells": [
    {
      "cell_type": "markdown",
      "metadata": {
        "colab_type": "text",
        "id": "view-in-github"
      },
      "source": [
        "<a href=\"https://colab.research.google.com/github/towardsai/ragbook-notebooks/blob/main/notebooks/Chapter%2005%20-%20Build_a_News_Articles_Summarizer.ipynb\" target=\"_parent\"><img src=\"https://colab.research.google.com/assets/colab-badge.svg\" alt=\"Open In Colab\"/></a>"
      ]
    },
    {
      "cell_type": "code",
      "execution_count": 6,
      "metadata": {
        "id": "YQVIcL2LWULJ"
      },
      "outputs": [],
      "source": [
        "!pip install -q langchain==0.0.208 openai==0.27.8 python-dotenv newspaper3k lxml_html_clean"
      ]
    },
    {
      "cell_type": "code",
      "execution_count": 7,
      "metadata": {
        "colab": {
          "base_uri": "https://localhost:8080/"
        },
        "id": "bDuYoCMhWW_x",
        "outputId": "a766448f-3810-43d7-acc2-c17f1ce61c50"
      },
      "outputs": [
        {
          "data": {
            "text/plain": [
              "True"
            ]
          },
          "execution_count": 7,
          "metadata": {},
          "output_type": "execute_result"
        }
      ],
      "source": [
        "from dotenv import load_dotenv\n",
        "\n",
        "load_dotenv()"
      ]
    },
    {
      "cell_type": "code",
      "execution_count": 8,
      "metadata": {
        "colab": {
          "base_uri": "https://localhost:8080/"
        },
        "id": "_6rH09GpWyP_",
        "outputId": "566117d6-04d6-494d-e234-b14c582e3d1d"
      },
      "outputs": [
        {
          "name": "stdout",
          "output_type": "stream",
          "text": [
            "Title: Meta claims its new AI supercomputer will set records\n",
            "Text: Ryan Daws is a senior editor at TechForge Media with over a decade of experience in crafting compelling narratives and making complex topics accessible. His articles and interviews with industry leaders have earned him recognition as a key influencer by organisations like Onalytica. Under his leadership, publications have been praised by analyst firms such as Forrester for their excellence and performance. Connect with him on X (@gadget_ry) or Mastodon (@gadgetry@techhub.social)\n",
            "\n",
            "Meta (formerly Facebook) has unveiled an AI supercomputer that it claims will be the world’s fastest.\n",
            "\n",
            "The supercomputer is called the AI Research SuperCluster (RSC) and is yet to be fully complete. However, Meta’s researchers have already begun using it for training large natural language processing (NLP) and computer vision models.\n",
            "\n",
            "RSC is set to be fully built in mid-2022. Meta says that it will be the fastest in the world once complete and the aim is for it to be capable of training models with trillions of parameters.\n",
            "\n",
            "“We hope RSC will help us build entirely new AI systems that can, for example, power real-time voice translations to large groups of people, each speaking a different language, so they can seamlessly collaborate on a research project or play an AR game together,” wrote Meta in a blog post.\n",
            "\n",
            "“Ultimately, the work done with RSC will pave the way toward building technologies for the next major computing platform — the metaverse, where AI-driven applications and products will play an important role.”\n",
            "\n",
            "For production, Meta expects RSC will be 20x faster than Meta’s current V100-based clusters. RSC is also estimated to be 9x faster at running the NVIDIA Collective Communication Library (NCCL) and 3x faster at training large-scale NLP workflows.\n",
            "\n",
            "A model with tens of billions of parameters can finish training in three weeks compared with nine weeks prior to RSC.\n",
            "\n",
            "Meta says that its previous AI research infrastructure only leveraged open source and other publicly-available datasets. RSC was designed with the security and privacy controls in mind to allow Meta to use real-world examples from its production systems in production training.\n",
            "\n",
            "What this means in practice is that Meta can use RSC to advance research for vital tasks such as identifying harmful content on its platforms—using real data from them.\n",
            "\n",
            "“We believe this is the first time performance, reliability, security, and privacy have been tackled at such a scale,” says Meta.\n",
            "\n",
            "(Image Credit: Meta)\n",
            "\n",
            "Want to learn more about AI and big data from industry leaders? Check out AI & Big Data Expo. The next events in the series will be held in Santa Clara on 11-12 May 2022, Amsterdam on 20-21 September 2022, and London on 1-2 December 2022.\n",
            "\n",
            "Explore other upcoming enterprise technology events and webinars powered by TechForge here.\n"
          ]
        }
      ],
      "source": [
        "import requests\n",
        "from newspaper import Article\n",
        "\n",
        "headers = {\n",
        "    'User-Agent': 'Mozilla/5.0 (Windows NT 10.0; Win64; x64) AppleWebKit/537.36 (KHTML, like Gecko) Chrome/89.0.4389.82 Safari/537.36'\n",
        "}\n",
        "\n",
        "article_urls = \"https://www.artificialintelligence-news.com/2022/01/25/meta-claims-new-ai-supercomputer-will-set-records/\"\n",
        "\n",
        "session = requests.Session()\n",
        "\n",
        "try:\n",
        "    response = session.get(article_urls, headers=headers, timeout=10)\n",
        "\n",
        "    if response.status_code == 200:\n",
        "        article = Article(article_urls)\n",
        "        article.download()\n",
        "        article.parse()\n",
        "\n",
        "        print(f\"Title: {article.title}\")\n",
        "        print(f\"Text: {article.text}\")\n",
        "\n",
        "    else:\n",
        "        print(f\"Failed to fetch article at {article_urls}\")\n",
        "except Exception as e:\n",
        "    print(f\"Error occurred while fetching article at {article_urls}: {e}\")"
      ]
    },
    {
      "cell_type": "code",
      "execution_count": 9,
      "metadata": {
        "id": "-neGI_O-WyH5"
      },
      "outputs": [
        {
          "name": "stderr",
          "output_type": "stream",
          "text": [
            "/teamspace/studios/this_studio/.conda/lib/python3.10/site-packages/deeplake/util/check_latest_version.py:32: UserWarning: A newer version of deeplake (3.9.16) is available. It's recommended that you update to the latest version using `pip install -U deeplake`.\n",
            "  warnings.warn(\n"
          ]
        }
      ],
      "source": [
        "from langchain.schema import (\n",
        "    HumanMessage\n",
        ")\n",
        "\n",
        "# we get the article data from the scraping part\n",
        "article_title = article.title\n",
        "article_text = article.text\n",
        "\n",
        "# prepare template for prompt\n",
        "template = \"\"\"You are a very good assistant that summarizes online articles.\n",
        "\n",
        "Here's the article you want to summarize.\n",
        "\n",
        "==================\n",
        "Title: {article_title}\n",
        "\n",
        "{article_text}\n",
        "==================\n",
        "\n",
        "Write a summary of the previous article.\n",
        "\"\"\"\n",
        "\n",
        "prompt = template.format(article_title=article.title, article_text=article.text)\n",
        "\n",
        "messages = [HumanMessage(content=prompt)]"
      ]
    },
    {
      "cell_type": "code",
      "execution_count": 10,
      "metadata": {},
      "outputs": [
        {
          "data": {
            "text/plain": [
              "[HumanMessage(content=\"You are a very good assistant that summarizes online articles.\\n\\nHere's the article you want to summarize.\\n\\n==================\\nTitle: Meta claims its new AI supercomputer will set records\\n\\nRyan Daws is a senior editor at TechForge Media with over a decade of experience in crafting compelling narratives and making complex topics accessible. His articles and interviews with industry leaders have earned him recognition as a key influencer by organisations like Onalytica. Under his leadership, publications have been praised by analyst firms such as Forrester for their excellence and performance. Connect with him on X (@gadget_ry) or Mastodon (@gadgetry@techhub.social)\\n\\nMeta (formerly Facebook) has unveiled an AI supercomputer that it claims will be the world’s fastest.\\n\\nThe supercomputer is called the AI Research SuperCluster (RSC) and is yet to be fully complete. However, Meta’s researchers have already begun using it for training large natural language processing (NLP) and computer vision models.\\n\\nRSC is set to be fully built in mid-2022. Meta says that it will be the fastest in the world once complete and the aim is for it to be capable of training models with trillions of parameters.\\n\\n“We hope RSC will help us build entirely new AI systems that can, for example, power real-time voice translations to large groups of people, each speaking a different language, so they can seamlessly collaborate on a research project or play an AR game together,” wrote Meta in a blog post.\\n\\n“Ultimately, the work done with RSC will pave the way toward building technologies for the next major computing platform — the metaverse, where AI-driven applications and products will play an important role.”\\n\\nFor production, Meta expects RSC will be 20x faster than Meta’s current V100-based clusters. RSC is also estimated to be 9x faster at running the NVIDIA Collective Communication Library (NCCL) and 3x faster at training large-scale NLP workflows.\\n\\nA model with tens of billions of parameters can finish training in three weeks compared with nine weeks prior to RSC.\\n\\nMeta says that its previous AI research infrastructure only leveraged open source and other publicly-available datasets. RSC was designed with the security and privacy controls in mind to allow Meta to use real-world examples from its production systems in production training.\\n\\nWhat this means in practice is that Meta can use RSC to advance research for vital tasks such as identifying harmful content on its platforms—using real data from them.\\n\\n“We believe this is the first time performance, reliability, security, and privacy have been tackled at such a scale,” says Meta.\\n\\n(Image Credit: Meta)\\n\\nWant to learn more about AI and big data from industry leaders? Check out AI & Big Data Expo. The next events in the series will be held in Santa Clara on 11-12 May 2022, Amsterdam on 20-21 September 2022, and London on 1-2 December 2022.\\n\\nExplore other upcoming enterprise technology events and webinars powered by TechForge here.\\n==================\\n\\nWrite a summary of the previous article.\\n\", additional_kwargs={}, example=False)]"
            ]
          },
          "execution_count": 10,
          "metadata": {},
          "output_type": "execute_result"
        }
      ],
      "source": [
        "messages"
      ]
    },
    {
      "cell_type": "code",
      "execution_count": 11,
      "metadata": {
        "id": "UYRzjToAXDUe"
      },
      "outputs": [],
      "source": [
        "from langchain.chat_models import ChatOpenAI\n",
        "\n",
        "# load the model\n",
        "chat = ChatOpenAI(model_name=\"gpt-4-turbo\", temperature=0)"
      ]
    },
    {
      "cell_type": "code",
      "execution_count": 12,
      "metadata": {
        "colab": {
          "base_uri": "https://localhost:8080/"
        },
        "id": "hVMxNufYXMek",
        "outputId": "05d74e4c-d8cf-47e4-d2a2-1510c8fd1687"
      },
      "outputs": [
        {
          "name": "stdout",
          "output_type": "stream",
          "text": [
            "Meta (formerly Facebook) has announced the development of the AI Research SuperCluster (RSC), which it claims will be the world's fastest AI supercomputer once completed in mid-2022. The RSC is designed to train large-scale natural language processing (NLP) and computer vision models, with capabilities to handle trillions of parameters. This supercomputer is expected to significantly enhance Meta's AI research, enabling advanced applications such as real-time voice translations for large, multilingual groups and supporting the development of the metaverse. The RSC will reportedly be 20 times faster than Meta's current systems and incorporates enhanced security and privacy features to utilize real-world data safely from Meta's platforms. This advancement is seen as a critical step in combining performance, reliability, security, and privacy at a large scale.\n"
          ]
        }
      ],
      "source": [
        "# generate summary\n",
        "summary = chat(messages)\n",
        "print(summary.content)"
      ]
    },
    {
      "cell_type": "code",
      "execution_count": 13,
      "metadata": {
        "colab": {
          "base_uri": "https://localhost:8080/"
        },
        "id": "l3LoDUVTXNJz",
        "outputId": "30c511d5-b63e-49f3-b527-11e278675338"
      },
      "outputs": [
        {
          "name": "stdout",
          "output_type": "stream",
          "text": [
            "- **Meta's New AI Supercomputer**: Meta (formerly Facebook) has announced the development of the AI Research SuperCluster (RSC), which it claims will be the world's fastest AI supercomputer upon completion.\n",
            "  \n",
            "- **Current Status and Capabilities**: The RSC is not yet fully built but is expected to be completed by mid-2022. Despite this, Meta's researchers are already using it to train large natural language processing (NLP) and computer vision models.\n",
            "\n",
            "- **Performance Enhancements**: Once completed, RSC is expected to be 20x faster than Meta’s current V100-based clusters, 9x faster at running the NVIDIA Collective Communication Library (NCCL), and 3x faster at training large-scale NLP workflows.\n",
            "\n",
            "- **Training Efficiency**: A model with tens of billions of parameters can be trained in three weeks on RSC, compared to nine weeks with previous systems.\n",
            "\n",
            "- **Future Applications**: Meta aims to use RSC to develop new AI systems for real-time voice translations and other applications essential for the metaverse, where AI-driven applications will be crucial.\n",
            "\n",
            "- **Privacy and Security**: RSC has been designed with enhanced security and privacy controls, allowing Meta to use real-world data from its production systems for training, which is pivotal for tasks like identifying harmful content on its platforms.\n",
            "\n",
            "- **Innovative Approach**: Meta claims this is the first instance where performance, reliability, security, and privacy have been addressed at such a scale in AI research infrastructure.\n",
            "\n",
            "- **Related Events**: For more insights on AI and big data, events like AI & Big Data Expo are scheduled in Santa Clara, Amsterdam, and London throughout 2022.\n"
          ]
        }
      ],
      "source": [
        "# prepare template for prompt\n",
        "template = \"\"\"You are an advanced AI assistant that summarizes online articles into bulleted lists.\n",
        "\n",
        "Here's the article you need to summarize.\n",
        "\n",
        "==================\n",
        "Title: {article_title}\n",
        "\n",
        "{article_text}\n",
        "==================\n",
        "\n",
        "Now, provide a summarized version of the article in a bulleted list format.\n",
        "\"\"\"\n",
        "\n",
        "# format prompt\n",
        "prompt = template.format(article_title=article.title, article_text=article.text)\n",
        "\n",
        "# generate summary\n",
        "summary = chat([HumanMessage(content=prompt)])\n",
        "print(summary.content)"
      ]
    },
    {
      "cell_type": "code",
      "execution_count": 14,
      "metadata": {
        "colab": {
          "base_uri": "https://localhost:8080/"
        },
        "id": "PPwrM1PWXtBr",
        "outputId": "b6910bb9-2413-4b1f-f292-76eb52bd7142"
      },
      "outputs": [
        {
          "name": "stdout",
          "output_type": "stream",
          "text": [
            "- Meta (anciennement Facebook) a dévoilé un superordinateur IA, nommé AI Research SuperCluster (RSC), prétendu être le plus rapide au monde une fois achevé.\n",
            "- Le RSC, qui n'est pas encore totalement complet, est déjà utilisé par les chercheurs de Meta pour entraîner de grands modèles de traitement du langage naturel (NLP) et de vision par ordinateur.\n",
            "- La construction complète du RSC est prévue pour mi-2022. Il devrait être capable de former des modèles avec des trillions de paramètres.\n",
            "- Meta envisage que le RSC permettra de développer de nouveaux systèmes IA, comme la traduction vocale en temps réel pour de grands groupes de personnes parlant différentes langues, facilitant ainsi la collaboration ou les jeux en réalité augmentée.\n",
            "- Le RSC devrait être 20 fois plus rapide que les clusters actuels de Meta basés sur V100, 9 fois plus rapide pour exécuter la bibliothèque de communication collective NVIDIA (NCCL) et 3 fois plus rapide pour l'entraînement de workflows NLP à grande échelle.\n",
            "- Un modèle avec des dizaines de milliards de paramètres peut être formé en trois semaines avec le RSC, contre neuf semaines auparavant.\n",
            "- Le RSC a été conçu avec des contrôles de sécurité et de confidentialité, permettant à Meta d'utiliser des exemples réels de ses systèmes de production pour l'entraînement.\n",
            "- Ce superordinateur aidera Meta à avancer dans la recherche pour des tâches essentielles telles que l'identification de contenus nuisibles sur ses plateformes.\n",
            "- Meta affirme que c'est la première fois que la performance, la fiabilité, la sécurité et la confidentialité sont abordées à une telle échelle.\n",
            "- Pour en savoir plus sur l'IA et les grandes données, des événements comme l'AI & Big Data Expo sont prévus à Santa Clara, Amsterdam et Londres en 2022.\n"
          ]
        }
      ],
      "source": [
        "# prepare template for prompt\n",
        "template = \"\"\"You are an advanced AI assistant that summarizes online articles into bulleted lists in French.\n",
        "\n",
        "Here's the article you need to summarize.\n",
        "\n",
        "==================\n",
        "Title: {article_title}\n",
        "\n",
        "{article_text}\n",
        "==================\n",
        "\n",
        "Now, provide a summarized version of the article in a bulleted list format, in French.\n",
        "\"\"\"\n",
        "\n",
        "# format prompt\n",
        "prompt = template.format(article_title=article.title, article_text=article.text)\n",
        "\n",
        "# generate summary\n",
        "summary = chat([HumanMessage(content=prompt)])\n",
        "print(summary.content)"
      ]
    },
    {
      "cell_type": "code",
      "execution_count": 15,
      "metadata": {
        "id": "Mrx20THKYkA4"
      },
      "outputs": [
        {
          "name": "stdout",
          "output_type": "stream",
          "text": [
            "- Meta (anteriormente Facebook) ha presentado un superordenador de IA, el AI Research SuperCluster (RSC), que afirma será el más rápido del mundo, pero hay dudas sobre su eficacia y liderazgo en el campo.\n",
            "  \n",
            "- Aunque el RSC aún no está completamente construido y se espera que esté terminado a mediados de 2022, hay escepticismo sobre si realmente logrará ser el más rápido del mundo una vez completado.\n",
            "\n",
            "- Meta espera que el RSC sea capaz de entrenar modelos con billones de parámetros, pero críticos cuestionan si esto realmente contribuirá a avances significativos en la tecnología o si es más bien una estrategia de marketing.\n",
            "\n",
            "- Meta promete que el RSC permitirá desarrollos como traducciones de voz en tiempo real para grandes grupos de personas en diferentes idiomas, pero expertos dudan de la viabilidad y la utilidad práctica de estas aplicaciones en el corto plazo.\n",
            "\n",
            "- El objetivo final de utilizar el RSC para avanzar hacia la construcción del metaverso, donde las aplicaciones y productos impulsados por IA jugarán un papel importante, es visto por algunos como una visión demasiado ambiciosa y posiblemente prematura.\n",
            "\n",
            "- Aunque Meta afirma que el RSC será 20 veces más rápido que sus actuales clusters basados en V100, y 9 veces más rápido en ejecutar la NVIDIA Collective Communication Library (NCCL), algunos expertos son escépticos sobre estas afirmaciones y piden ver resultados concretos.\n",
            "\n",
            "- La afirmación de que un modelo con decenas de miles de millones de parámetros puede completar su entrenamiento en tres semanas, en comparación con las nueve semanas anteriores, es vista por algunos como una exageración que necesita ser probada en escenarios del mundo real.\n",
            "\n",
            "- Meta menciona que la infraestructura anterior de investigación de IA solo utilizaba conjuntos de datos de código abierto y otros disponibles públicamente, pero ahora con RSC, diseñado con controles de seguridad y privacidad, utilizarán ejemplos reales de sus sistemas de producción. Esto genera preocupaciones sobre la privacidad y el uso ético de los datos.\n",
            "\n",
            "- La declaración de Meta de que esta es la primera vez que se abordan el rendimiento, la fiabilidad, la seguridad y la privacidad a tal escala ha sido recibida con escepticismo por parte de críticos que cuestionan la transparencia y la responsabilidad de la empresa en estas áreas.\n",
            "\n",
            "- Aunque el artículo promueve eventos futuros como el AI & Big Data Expo, hay una percepción de que estos eventos son más espectáculos comerciales que foros para un avance tecnológico genuino y significativo.\n"
          ]
        }
      ],
      "source": [
        "# prepare template for prompt\n",
        "template = \"\"\"You are an advanced AI assistant writes a summary in bullet points which reflects the total opposite view of the artiche provided to summarize.\n",
        "\n",
        "Here's the article you need to summarize.\n",
        "\n",
        "==================\n",
        "Title: {article_title}\n",
        "\n",
        "{article_text}\n",
        "==================\n",
        "\n",
        "Now, provide a summarized version of the article with the opposite view in a bulleted list format, in Spanish.\n",
        "\"\"\"\n",
        "\n",
        "# format prompt\n",
        "prompt = template.format(article_title=article.title, article_text=article.text)\n",
        "\n",
        "# generate summary\n",
        "summary = chat([HumanMessage(content=prompt)])\n",
        "print(summary.content)"
      ]
    }
  ],
  "metadata": {
    "colab": {
      "authorship_tag": "ABX9TyOE6HvJTBPWvSV1/42PcYTJ",
      "include_colab_link": true,
      "provenance": []
    },
    "kernelspec": {
      "display_name": "Python 3",
      "name": "python3"
    },
    "language_info": {
      "name": "python"
    }
  },
  "nbformat": 4,
  "nbformat_minor": 0
}
